{
 "cells": [
  {
   "cell_type": "code",
   "execution_count": 1,
   "metadata": {},
   "outputs": [],
   "source": [
    "import csv\n",
    "import mysql.connector"
   ]
  },
  {
   "cell_type": "code",
   "execution_count": 2,
   "metadata": {},
   "outputs": [],
   "source": [
    "# Thực hiện kết nối tới cơ sở dữ liệu MySQL\n",
    "config = {\n",
    "        'user': 'root',\n",
    "        'password': 'debezium',\n",
    "        'host': '127.0.0.1',\n",
    "        'port': '3306',\n",
    "        'database': 'myCompany'\n",
    "    }\n",
    "connection = mysql.connector.connect(**config)"
   ]
  },
  {
   "cell_type": "code",
   "execution_count": 3,
   "metadata": {},
   "outputs": [],
   "source": [
    "dict_list_order = list()\n",
    "with open('./data/order.csv', mode='r') as order_csv:\n",
    "    order_reader = csv.reader(order_csv)\n",
    "    header = next(order_reader)\n",
    "    for rows in order_reader:\n",
    "        dict_list_order.append({'product_id':rows[0], 'quantity':rows[1], 'created_at':rows[2]})\n",
    "\n",
    "dict_list_odetail = list()\n",
    "with open('./data/order_detail.csv', mode='r') as odetail_csv:\n",
    "    odetail_reader = csv.reader(odetail_csv)\n",
    "    header = next(odetail_reader)\n",
    "    for rows in odetail_reader:\n",
    "        dict_list_odetail.append({'order_id':rows[0], 'user_id':rows[1], 'total':rows[2], 'payment':rows[3]})\n",
    "\n",
    "        \n",
    "# Tạo đối tượng cursor để thực hiện truy vấn SQL\n",
    "mycursor = connection.cursor()\n",
    "for order_item, odetail_item in zip(dict_list_order, dict_list_odetail):\n",
    "    sql1 = \"INSERT INTO Orders(product_id, quantity, created_at) VALUES (%s, %s, %s)\"\n",
    "    val1 = order_item['product_id'], order_item['quantity'], order_item['created_at']\n",
    "    mycursor.execute(sql1, val1)\n",
    "    sql2 = \"INSERT INTO Order_detail(order_id, user_id, total, payment) VALUES (%s, %s, %s, %s)\"\n",
    "    val2 = odetail_item['order_id'], odetail_item['user_id'], odetail_item['total'], odetail_item['payment']\n",
    "    mycursor.execute(sql2, val2)\n",
    "connection.commit()\n",
    "connection.close()"
   ]
  },
  {
   "cell_type": "code",
   "execution_count": null,
   "metadata": {},
   "outputs": [],
   "source": []
  }
 ],
 "metadata": {
  "kernelspec": {
   "display_name": "Python 3",
   "language": "python",
   "name": "python3"
  },
  "language_info": {
   "codemirror_mode": {
    "name": "ipython",
    "version": 3
   },
   "file_extension": ".py",
   "mimetype": "text/x-python",
   "name": "python",
   "nbconvert_exporter": "python",
   "pygments_lexer": "ipython3",
   "version": "3.10.1"
  }
 },
 "nbformat": 4,
 "nbformat_minor": 2
}
